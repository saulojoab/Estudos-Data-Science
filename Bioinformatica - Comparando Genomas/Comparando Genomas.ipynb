{
 "cells": [
  {
   "cell_type": "markdown",
   "metadata": {},
   "source": [
    "# Bioinformática\n",
    "Comparando genomas entre ser humano e bactéria.\n",
    "\n",
    "A\n",
    "T\n",
    "C\n",
    "G - 16 combinações possíveis.\n"
   ]
  },
  {
   "cell_type": "code",
   "execution_count": 130,
   "metadata": {},
   "outputs": [
    {
     "name": "stdout",
     "output_type": "stream",
     "text": [
      "{'AA': 0, 'AT': 0, 'AC': 0, 'AG': 0, 'TA': 0, 'TT': 0, 'TC': 0, 'TG': 0, 'CA': 0, 'CT': 0, 'CC': 0, 'CG': 0, 'GA': 0, 'GT': 0, 'GC': 0, 'GG': 0}\n"
     ]
    }
   ],
   "source": [
    "#coding: utf-8\n",
    "\n",
    "# Lendo arquivos e preparando html de saída.\n",
    "# Pra gerar o do humano, é só substituir \"bacteria\" por \"humano\".\n",
    "entrada = open(\"rna_ribossomal_bacteria.fasta\").read();\n",
    "saida = open(\"bacteria.html\", \"w\");\n",
    "\n",
    "# Criando o dicionario vazio.\n",
    "dicCont = {}\n",
    "\n",
    "# Adicionando os pares ao dicionario.\n",
    "for i in ['A', 'T', 'C', 'G']:\n",
    "    for e in ['A', 'T', 'C', 'G']:\n",
    "        dicCont[i+e] = 0;\n",
    "        \n",
    "print(dicCont)"
   ]
  },
  {
   "cell_type": "code",
   "execution_count": 131,
   "metadata": {},
   "outputs": [
    {
     "name": "stdout",
     "output_type": "stream",
     "text": [
      "{'AA': 116, 'AT': 95, 'AC': 97, 'AG': 113, 'TA': 85, 'TT': 113, 'TC': 109, 'TG': 111, 'CA': 87, 'CT': 105, 'CC': 184, 'CG': 170, 'GA': 134, 'GT': 105, 'GC': 155, 'GG': 184}\n"
     ]
    }
   ],
   "source": [
    "# Tirando as quebras de linha e um N aleatorio (?).\n",
    "entrada = entrada.replace(\"\\n\", \"\");\n",
    "entrada = entrada.replace(\"N\", \"\");\n",
    "\n",
    "# Percorrendo valores da bacteria.\n",
    "for k in range(len(entrada)-1):\n",
    "    dicCont[entrada[k] + entrada[k+1]] += 1; # EX: dicCont['AG'] = dicCont['AG'] + 1; \n",
    "\n",
    "print(dicCont);"
   ]
  },
  {
   "cell_type": "code",
   "execution_count": 132,
   "metadata": {},
   "outputs": [],
   "source": [
    "k = 1;\n",
    "\n",
    "# Pra cada combinação do dicionário.\n",
    "for i in dicCont:\n",
    "    # A transparência será o valor atual dividido pelo valor máximo do dicionário.\n",
    "    transparencia = dicCont[i]/max(dicCont.values());\n",
    "    \n",
    "    # Escrevendo os quadradinhos no HTML de saída.\n",
    "    saida.write(\"<div style='width: 100px; border: 1px solid; color: white; height: 100px; float: left; background-color: rgba(0, 0, 0, \" + str(transparencia) +\")'>\"+ i +\"</div>\")\n",
    "    \n",
    "    # Organizando de 4 em 4.\n",
    "    if (k % 4 == 0):\n",
    "        saida.write(\"<div style='clear: both;'></div>\");\n",
    "    k += 1;\n",
    "\n",
    "# Fechando o HTML de saída.\n",
    "saida.close();"
   ]
  },
  {
   "cell_type": "code",
   "execution_count": null,
   "metadata": {},
   "outputs": [],
   "source": []
  }
 ],
 "metadata": {
  "kernelspec": {
   "display_name": "Python 3",
   "language": "python",
   "name": "python3"
  },
  "language_info": {
   "codemirror_mode": {
    "name": "ipython",
    "version": 3
   },
   "file_extension": ".py",
   "mimetype": "text/x-python",
   "name": "python",
   "nbconvert_exporter": "python",
   "pygments_lexer": "ipython3",
   "version": "3.7.2"
  }
 },
 "nbformat": 4,
 "nbformat_minor": 2
}
